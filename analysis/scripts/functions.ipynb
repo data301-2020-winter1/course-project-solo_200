{
 "cells": [
  {
   "cell_type": "code",
   "execution_count": 1,
   "metadata": {},
   "outputs": [],
   "source": [
    "#wrap method chains in a function\n",
    "\n",
    "def load_and_process():\n",
    "\n",
    "#method chain 1 (load and clean data)\n",
    "\n",
    "    df = (\n",
    "    pd.read_csv(\n",
    "        \"/Users/aidenb/Documents/Year_3/DATA_301/Project/Lower_Mainland_Crashes_Full_Data_data.csv\")\n",
    "\n",
    "    .drop(\n",
    "    ['Latitude', 'Longitude'], axis = 1)\n",
    "    \n",
    "    .dropna()\n",
    "    )\n",
    "\n",
    "#method chain 2 (process data)\n",
    "\n",
    "    df1 = (\n",
    "    df\n",
    "    \n",
    "    .sort_values(\n",
    "    by = ['Year'], ascending = True)\n",
    "    \n",
    "     .groupby(\n",
    "    ['Year'], as_index = False).sum().sort_values(by = ['Crash Count'], ascending = True)\n",
    "    )\n",
    "    return df1"
   ]
  },
  {
   "cell_type": "code",
   "execution_count": null,
   "metadata": {},
   "outputs": [],
   "source": []
  }
 ],
 "metadata": {
  "kernelspec": {
   "display_name": "Python 3",
   "language": "python",
   "name": "python3"
  },
  "language_info": {
   "codemirror_mode": {
    "name": "ipython",
    "version": 3
   },
   "file_extension": ".py",
   "mimetype": "text/x-python",
   "name": "python",
   "nbconvert_exporter": "python",
   "pygments_lexer": "ipython3",
   "version": "3.8.3"
  }
 },
 "nbformat": 4,
 "nbformat_minor": 4
}
