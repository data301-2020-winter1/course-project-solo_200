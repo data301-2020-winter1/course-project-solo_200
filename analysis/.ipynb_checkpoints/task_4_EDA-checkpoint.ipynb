{
 "cells": [
  {
   "cell_type": "code",
   "execution_count": null,
   "metadata": {},
   "outputs": [],
   "source": [
    "# Exploring the dataset"
   ]
  },
  {
   "cell_type": "code",
   "execution_count": 300,
   "metadata": {},
   "outputs": [],
   "source": [
    "from os import path\n",
    "import pandas as pd\n",
    "import numpy as np\n",
    "import seaborn as sns\n",
    "import matplotlib.pyplot as plt"
   ]
  },
  {
   "cell_type": "code",
   "execution_count": 327,
   "metadata": {},
   "outputs": [
    {
     "data": {
      "text/html": [
       "<div>\n",
       "<style scoped>\n",
       "    .dataframe tbody tr th:only-of-type {\n",
       "        vertical-align: middle;\n",
       "    }\n",
       "\n",
       "    .dataframe tbody tr th {\n",
       "        vertical-align: top;\n",
       "    }\n",
       "\n",
       "    .dataframe thead th {\n",
       "        text-align: right;\n",
       "    }\n",
       "</style>\n",
       "<table border=\"1\" class=\"dataframe\">\n",
       "  <thead>\n",
       "    <tr style=\"text-align: right;\">\n",
       "      <th></th>\n",
       "      <th>city</th>\n",
       "      <th>country</th>\n",
       "      <th>latitude</th>\n",
       "      <th>longitude</th>\n",
       "      <th>name</th>\n",
       "      <th>postalCode</th>\n",
       "      <th>state</th>\n",
       "    </tr>\n",
       "  </thead>\n",
       "  <tbody>\n",
       "    <tr>\n",
       "      <th>0</th>\n",
       "      <td>Massena</td>\n",
       "      <td>US</td>\n",
       "      <td>44.921300</td>\n",
       "      <td>-74.890210</td>\n",
       "      <td>McDonald's</td>\n",
       "      <td>13662</td>\n",
       "      <td>NY</td>\n",
       "    </tr>\n",
       "    <tr>\n",
       "      <th>1</th>\n",
       "      <td>Washington Court House</td>\n",
       "      <td>US</td>\n",
       "      <td>39.532550</td>\n",
       "      <td>-83.445260</td>\n",
       "      <td>Wendy's</td>\n",
       "      <td>43160</td>\n",
       "      <td>OH</td>\n",
       "    </tr>\n",
       "    <tr>\n",
       "      <th>2</th>\n",
       "      <td>Maysville</td>\n",
       "      <td>US</td>\n",
       "      <td>38.627360</td>\n",
       "      <td>-83.791410</td>\n",
       "      <td>Frisch's Big Boy</td>\n",
       "      <td>41056</td>\n",
       "      <td>KY</td>\n",
       "    </tr>\n",
       "    <tr>\n",
       "      <th>3</th>\n",
       "      <td>Massena</td>\n",
       "      <td>US</td>\n",
       "      <td>44.950080</td>\n",
       "      <td>-74.845530</td>\n",
       "      <td>McDonald's</td>\n",
       "      <td>13662</td>\n",
       "      <td>NY</td>\n",
       "    </tr>\n",
       "    <tr>\n",
       "      <th>4</th>\n",
       "      <td>Athens</td>\n",
       "      <td>US</td>\n",
       "      <td>39.351550</td>\n",
       "      <td>-82.097280</td>\n",
       "      <td>OMG! Rotisserie</td>\n",
       "      <td>45701</td>\n",
       "      <td>OH</td>\n",
       "    </tr>\n",
       "    <tr>\n",
       "      <th>...</th>\n",
       "      <td>...</td>\n",
       "      <td>...</td>\n",
       "      <td>...</td>\n",
       "      <td>...</td>\n",
       "      <td>...</td>\n",
       "      <td>...</td>\n",
       "      <td>...</td>\n",
       "    </tr>\n",
       "    <tr>\n",
       "      <th>9995</th>\n",
       "      <td>Augusta</td>\n",
       "      <td>US</td>\n",
       "      <td>33.415257</td>\n",
       "      <td>-82.024531</td>\n",
       "      <td>Wendy's</td>\n",
       "      <td>30906</td>\n",
       "      <td>GA</td>\n",
       "    </tr>\n",
       "    <tr>\n",
       "      <th>9996</th>\n",
       "      <td>Cary</td>\n",
       "      <td>US</td>\n",
       "      <td>42.217300</td>\n",
       "      <td>-88.255800</td>\n",
       "      <td>Lee's Oriental Martial Arts</td>\n",
       "      <td>60013</td>\n",
       "      <td>IL</td>\n",
       "    </tr>\n",
       "    <tr>\n",
       "      <th>9997</th>\n",
       "      <td>Longmont</td>\n",
       "      <td>US</td>\n",
       "      <td>40.189190</td>\n",
       "      <td>-105.101720</td>\n",
       "      <td>Five Guys</td>\n",
       "      <td>80501</td>\n",
       "      <td>CO</td>\n",
       "    </tr>\n",
       "    <tr>\n",
       "      <th>9998</th>\n",
       "      <td>Cathedral City</td>\n",
       "      <td>US</td>\n",
       "      <td>33.788640</td>\n",
       "      <td>-116.482150</td>\n",
       "      <td>El Pollo Loco</td>\n",
       "      <td>92234</td>\n",
       "      <td>CA</td>\n",
       "    </tr>\n",
       "    <tr>\n",
       "      <th>9999</th>\n",
       "      <td>Anaheim</td>\n",
       "      <td>US</td>\n",
       "      <td>33.860074</td>\n",
       "      <td>-117.789762</td>\n",
       "      <td>Carl's Jr.</td>\n",
       "      <td>92807</td>\n",
       "      <td>CA</td>\n",
       "    </tr>\n",
       "  </tbody>\n",
       "</table>\n",
       "<p>9535 rows × 7 columns</p>\n",
       "</div>"
      ],
      "text/plain": [
       "                        city country   latitude   longitude  \\\n",
       "0                    Massena      US  44.921300  -74.890210   \n",
       "1     Washington Court House      US  39.532550  -83.445260   \n",
       "2                  Maysville      US  38.627360  -83.791410   \n",
       "3                    Massena      US  44.950080  -74.845530   \n",
       "4                     Athens      US  39.351550  -82.097280   \n",
       "...                      ...     ...        ...         ...   \n",
       "9995                 Augusta      US  33.415257  -82.024531   \n",
       "9996                    Cary      US  42.217300  -88.255800   \n",
       "9997                Longmont      US  40.189190 -105.101720   \n",
       "9998          Cathedral City      US  33.788640 -116.482150   \n",
       "9999                 Anaheim      US  33.860074 -117.789762   \n",
       "\n",
       "                             name postalCode state  \n",
       "0                      McDonald's      13662    NY  \n",
       "1                         Wendy's      43160    OH  \n",
       "2                Frisch's Big Boy      41056    KY  \n",
       "3                      McDonald's      13662    NY  \n",
       "4                 OMG! Rotisserie      45701    OH  \n",
       "...                           ...        ...   ...  \n",
       "9995                      Wendy's      30906    GA  \n",
       "9996  Lee's Oriental Martial Arts      60013    IL  \n",
       "9997                    Five Guys      80501    CO  \n",
       "9998                El Pollo Loco      92234    CA  \n",
       "9999                   Carl's Jr.      92807    CA  \n",
       "\n",
       "[9535 rows x 7 columns]"
      ]
     },
     "execution_count": 327,
     "metadata": {},
     "output_type": "execute_result"
    }
   ],
   "source": [
    "df = (\n",
    "pd.read_csv(\"https://raw.githubusercontent.com/data301-2020-winter1/course-project-solo_200/main/data/raw/FastFoodRestaurants.csv?token=ARAL4ZNEP46YNJJAVWW7T2C7X26OI\")\n",
    "    \n",
    "    .dropna()\n",
    "    .rename(columns = {'province':'state'})\n",
    "    .drop(['address',\n",
    "           'keys',\n",
    "           'websites'],\n",
    "         axis = 1)\n",
    ")\n",
    "df"
   ]
  },
  {
   "cell_type": "code",
   "execution_count": 329,
   "metadata": {},
   "outputs": [
    {
     "data": {
      "text/html": [
       "<div>\n",
       "<style scoped>\n",
       "    .dataframe tbody tr th:only-of-type {\n",
       "        vertical-align: middle;\n",
       "    }\n",
       "\n",
       "    .dataframe tbody tr th {\n",
       "        vertical-align: top;\n",
       "    }\n",
       "\n",
       "    .dataframe thead th {\n",
       "        text-align: right;\n",
       "    }\n",
       "</style>\n",
       "<table border=\"1\" class=\"dataframe\">\n",
       "  <thead>\n",
       "    <tr style=\"text-align: right;\">\n",
       "      <th></th>\n",
       "      <th>city</th>\n",
       "      <th>country</th>\n",
       "      <th>latitude</th>\n",
       "      <th>longitude</th>\n",
       "      <th>name</th>\n",
       "      <th>postalCode</th>\n",
       "      <th>state</th>\n",
       "    </tr>\n",
       "  </thead>\n",
       "  <tbody>\n",
       "    <tr>\n",
       "      <th>0</th>\n",
       "      <td>Massena</td>\n",
       "      <td>US</td>\n",
       "      <td>44</td>\n",
       "      <td>-74.89021</td>\n",
       "      <td>McDonald's</td>\n",
       "      <td>13662</td>\n",
       "      <td>NY</td>\n",
       "    </tr>\n",
       "    <tr>\n",
       "      <th>1</th>\n",
       "      <td>Washington Court House</td>\n",
       "      <td>US</td>\n",
       "      <td>39</td>\n",
       "      <td>-83.44526</td>\n",
       "      <td>Wendy's</td>\n",
       "      <td>43160</td>\n",
       "      <td>OH</td>\n",
       "    </tr>\n",
       "    <tr>\n",
       "      <th>2</th>\n",
       "      <td>Maysville</td>\n",
       "      <td>US</td>\n",
       "      <td>38</td>\n",
       "      <td>-83.79141</td>\n",
       "      <td>Frisch's Big Boy</td>\n",
       "      <td>41056</td>\n",
       "      <td>KY</td>\n",
       "    </tr>\n",
       "    <tr>\n",
       "      <th>3</th>\n",
       "      <td>Massena</td>\n",
       "      <td>US</td>\n",
       "      <td>44</td>\n",
       "      <td>-74.84553</td>\n",
       "      <td>McDonald's</td>\n",
       "      <td>13662</td>\n",
       "      <td>NY</td>\n",
       "    </tr>\n",
       "    <tr>\n",
       "      <th>4</th>\n",
       "      <td>Athens</td>\n",
       "      <td>US</td>\n",
       "      <td>39</td>\n",
       "      <td>-82.09728</td>\n",
       "      <td>OMG! Rotisserie</td>\n",
       "      <td>45701</td>\n",
       "      <td>OH</td>\n",
       "    </tr>\n",
       "  </tbody>\n",
       "</table>\n",
       "</div>"
      ],
      "text/plain": [
       "                     city country  latitude  longitude              name  \\\n",
       "0                 Massena      US        44  -74.89021        McDonald's   \n",
       "1  Washington Court House      US        39  -83.44526           Wendy's   \n",
       "2               Maysville      US        38  -83.79141  Frisch's Big Boy   \n",
       "3                 Massena      US        44  -74.84553        McDonald's   \n",
       "4                  Athens      US        39  -82.09728   OMG! Rotisserie   \n",
       "\n",
       "  postalCode state  \n",
       "0      13662    NY  \n",
       "1      43160    OH  \n",
       "2      41056    KY  \n",
       "3      13662    NY  \n",
       "4      45701    OH  "
      ]
     },
     "execution_count": 329,
     "metadata": {},
     "output_type": "execute_result"
    }
   ],
   "source": [
    "# latitude to integer\n",
    "df['latitude'] = df ['latitude'].astype(int)\n",
    "df.head()"
   ]
  },
  {
   "cell_type": "code",
   "execution_count": 330,
   "metadata": {},
   "outputs": [
    {
     "data": {
      "text/html": [
       "<div>\n",
       "<style scoped>\n",
       "    .dataframe tbody tr th:only-of-type {\n",
       "        vertical-align: middle;\n",
       "    }\n",
       "\n",
       "    .dataframe tbody tr th {\n",
       "        vertical-align: top;\n",
       "    }\n",
       "\n",
       "    .dataframe thead th {\n",
       "        text-align: right;\n",
       "    }\n",
       "</style>\n",
       "<table border=\"1\" class=\"dataframe\">\n",
       "  <thead>\n",
       "    <tr style=\"text-align: right;\">\n",
       "      <th></th>\n",
       "      <th>city</th>\n",
       "      <th>country</th>\n",
       "      <th>latitude</th>\n",
       "      <th>longitude</th>\n",
       "      <th>name</th>\n",
       "      <th>postalCode</th>\n",
       "      <th>state</th>\n",
       "    </tr>\n",
       "  </thead>\n",
       "  <tbody>\n",
       "    <tr>\n",
       "      <th>0</th>\n",
       "      <td>Massena</td>\n",
       "      <td>US</td>\n",
       "      <td>44</td>\n",
       "      <td>-74</td>\n",
       "      <td>McDonald's</td>\n",
       "      <td>13662</td>\n",
       "      <td>NY</td>\n",
       "    </tr>\n",
       "    <tr>\n",
       "      <th>1</th>\n",
       "      <td>Washington Court House</td>\n",
       "      <td>US</td>\n",
       "      <td>39</td>\n",
       "      <td>-83</td>\n",
       "      <td>Wendy's</td>\n",
       "      <td>43160</td>\n",
       "      <td>OH</td>\n",
       "    </tr>\n",
       "    <tr>\n",
       "      <th>2</th>\n",
       "      <td>Maysville</td>\n",
       "      <td>US</td>\n",
       "      <td>38</td>\n",
       "      <td>-83</td>\n",
       "      <td>Frisch's Big Boy</td>\n",
       "      <td>41056</td>\n",
       "      <td>KY</td>\n",
       "    </tr>\n",
       "    <tr>\n",
       "      <th>3</th>\n",
       "      <td>Massena</td>\n",
       "      <td>US</td>\n",
       "      <td>44</td>\n",
       "      <td>-74</td>\n",
       "      <td>McDonald's</td>\n",
       "      <td>13662</td>\n",
       "      <td>NY</td>\n",
       "    </tr>\n",
       "    <tr>\n",
       "      <th>4</th>\n",
       "      <td>Athens</td>\n",
       "      <td>US</td>\n",
       "      <td>39</td>\n",
       "      <td>-82</td>\n",
       "      <td>OMG! Rotisserie</td>\n",
       "      <td>45701</td>\n",
       "      <td>OH</td>\n",
       "    </tr>\n",
       "  </tbody>\n",
       "</table>\n",
       "</div>"
      ],
      "text/plain": [
       "                     city country  latitude  longitude              name  \\\n",
       "0                 Massena      US        44        -74        McDonald's   \n",
       "1  Washington Court House      US        39        -83           Wendy's   \n",
       "2               Maysville      US        38        -83  Frisch's Big Boy   \n",
       "3                 Massena      US        44        -74        McDonald's   \n",
       "4                  Athens      US        39        -82   OMG! Rotisserie   \n",
       "\n",
       "  postalCode state  \n",
       "0      13662    NY  \n",
       "1      43160    OH  \n",
       "2      41056    KY  \n",
       "3      13662    NY  \n",
       "4      45701    OH  "
      ]
     },
     "execution_count": 330,
     "metadata": {},
     "output_type": "execute_result"
    }
   ],
   "source": [
    "#longitude to integer\n",
    "df['longitude'] = df['longitude'].astype(int)\n",
    "df.head()"
   ]
  },
  {
   "cell_type": "code",
   "execution_count": 331,
   "metadata": {},
   "outputs": [
    {
     "data": {
      "text/html": [
       "<div>\n",
       "<style scoped>\n",
       "    .dataframe tbody tr th:only-of-type {\n",
       "        vertical-align: middle;\n",
       "    }\n",
       "\n",
       "    .dataframe tbody tr th {\n",
       "        vertical-align: top;\n",
       "    }\n",
       "\n",
       "    .dataframe thead th {\n",
       "        text-align: right;\n",
       "    }\n",
       "</style>\n",
       "<table border=\"1\" class=\"dataframe\">\n",
       "  <thead>\n",
       "    <tr style=\"text-align: right;\">\n",
       "      <th></th>\n",
       "      <th>city</th>\n",
       "      <th>country</th>\n",
       "      <th>latitude</th>\n",
       "      <th>longitude</th>\n",
       "      <th>name</th>\n",
       "      <th>postalCode</th>\n",
       "      <th>state</th>\n",
       "    </tr>\n",
       "  </thead>\n",
       "  <tbody>\n",
       "    <tr>\n",
       "      <th>0</th>\n",
       "      <td>Massena</td>\n",
       "      <td>US</td>\n",
       "      <td>44</td>\n",
       "      <td>-74</td>\n",
       "      <td>McDonald's</td>\n",
       "      <td>13662</td>\n",
       "      <td>NY</td>\n",
       "    </tr>\n",
       "    <tr>\n",
       "      <th>1</th>\n",
       "      <td>Washington Court House</td>\n",
       "      <td>US</td>\n",
       "      <td>39</td>\n",
       "      <td>-83</td>\n",
       "      <td>Wendy's</td>\n",
       "      <td>43160</td>\n",
       "      <td>OH</td>\n",
       "    </tr>\n",
       "    <tr>\n",
       "      <th>2</th>\n",
       "      <td>Maysville</td>\n",
       "      <td>US</td>\n",
       "      <td>38</td>\n",
       "      <td>-83</td>\n",
       "      <td>Frisch's Big Boy</td>\n",
       "      <td>41056</td>\n",
       "      <td>KY</td>\n",
       "    </tr>\n",
       "    <tr>\n",
       "      <th>3</th>\n",
       "      <td>Massena</td>\n",
       "      <td>US</td>\n",
       "      <td>44</td>\n",
       "      <td>-74</td>\n",
       "      <td>McDonald's</td>\n",
       "      <td>13662</td>\n",
       "      <td>NY</td>\n",
       "    </tr>\n",
       "    <tr>\n",
       "      <th>4</th>\n",
       "      <td>Athens</td>\n",
       "      <td>US</td>\n",
       "      <td>39</td>\n",
       "      <td>-82</td>\n",
       "      <td>OMG! Rotisserie</td>\n",
       "      <td>45701</td>\n",
       "      <td>OH</td>\n",
       "    </tr>\n",
       "    <tr>\n",
       "      <th>...</th>\n",
       "      <td>...</td>\n",
       "      <td>...</td>\n",
       "      <td>...</td>\n",
       "      <td>...</td>\n",
       "      <td>...</td>\n",
       "      <td>...</td>\n",
       "      <td>...</td>\n",
       "    </tr>\n",
       "    <tr>\n",
       "      <th>9995</th>\n",
       "      <td>Augusta</td>\n",
       "      <td>US</td>\n",
       "      <td>33</td>\n",
       "      <td>-82</td>\n",
       "      <td>Wendy's</td>\n",
       "      <td>30906</td>\n",
       "      <td>GA</td>\n",
       "    </tr>\n",
       "    <tr>\n",
       "      <th>9996</th>\n",
       "      <td>Cary</td>\n",
       "      <td>US</td>\n",
       "      <td>42</td>\n",
       "      <td>-88</td>\n",
       "      <td>Lee's Oriental Martial Arts</td>\n",
       "      <td>60013</td>\n",
       "      <td>IL</td>\n",
       "    </tr>\n",
       "    <tr>\n",
       "      <th>9997</th>\n",
       "      <td>Longmont</td>\n",
       "      <td>US</td>\n",
       "      <td>40</td>\n",
       "      <td>-105</td>\n",
       "      <td>Five Guys</td>\n",
       "      <td>80501</td>\n",
       "      <td>CO</td>\n",
       "    </tr>\n",
       "    <tr>\n",
       "      <th>9998</th>\n",
       "      <td>Cathedral City</td>\n",
       "      <td>US</td>\n",
       "      <td>33</td>\n",
       "      <td>-116</td>\n",
       "      <td>El Pollo Loco</td>\n",
       "      <td>92234</td>\n",
       "      <td>CA</td>\n",
       "    </tr>\n",
       "    <tr>\n",
       "      <th>9999</th>\n",
       "      <td>Anaheim</td>\n",
       "      <td>US</td>\n",
       "      <td>33</td>\n",
       "      <td>-117</td>\n",
       "      <td>Carl's Jr.</td>\n",
       "      <td>92807</td>\n",
       "      <td>CA</td>\n",
       "    </tr>\n",
       "  </tbody>\n",
       "</table>\n",
       "<p>9196 rows × 7 columns</p>\n",
       "</div>"
      ],
      "text/plain": [
       "                        city country  latitude  longitude  \\\n",
       "0                    Massena      US        44        -74   \n",
       "1     Washington Court House      US        39        -83   \n",
       "2                  Maysville      US        38        -83   \n",
       "3                    Massena      US        44        -74   \n",
       "4                     Athens      US        39        -82   \n",
       "...                      ...     ...       ...        ...   \n",
       "9995                 Augusta      US        33        -82   \n",
       "9996                    Cary      US        42        -88   \n",
       "9997                Longmont      US        40       -105   \n",
       "9998          Cathedral City      US        33       -116   \n",
       "9999                 Anaheim      US        33       -117   \n",
       "\n",
       "                             name postalCode state  \n",
       "0                      McDonald's      13662    NY  \n",
       "1                         Wendy's      43160    OH  \n",
       "2                Frisch's Big Boy      41056    KY  \n",
       "3                      McDonald's      13662    NY  \n",
       "4                 OMG! Rotisserie      45701    OH  \n",
       "...                           ...        ...   ...  \n",
       "9995                      Wendy's      30906    GA  \n",
       "9996  Lee's Oriental Martial Arts      60013    IL  \n",
       "9997                    Five Guys      80501    CO  \n",
       "9998                El Pollo Loco      92234    CA  \n",
       "9999                   Carl's Jr.      92807    CA  \n",
       "\n",
       "[9196 rows x 7 columns]"
      ]
     },
     "execution_count": 331,
     "metadata": {},
     "output_type": "execute_result"
    }
   ],
   "source": [
    "# find and remove outliers in latitude column\n",
    "q_low = df['latitude'].quantile(0.01)\n",
    "q_hi  = df['latitude'].quantile(0.99)\n",
    "\n",
    "df_filtered = df[(df['latitude'] < q_hi) & (df['latitude'] > q_low)]\n",
    "df_filtered"
   ]
  },
  {
   "cell_type": "code",
   "execution_count": 19,
   "metadata": {},
   "outputs": [
    {
     "data": {
      "text/plain": [
       "2016    850\n",
       "2017    534\n",
       "2015    531\n",
       "2018     19\n",
       "2014      9\n",
       "Name: year, dtype: int64"
      ]
     },
     "execution_count": 19,
     "metadata": {},
     "output_type": "execute_result"
    }
   ],
   "source": [
    "# what year did McDonalds chain grow the most?\n",
    "dfx = (df\n",
    "       .loc[lambda df: df['name']\n",
    "            .str.contains('McDonald')]\n",
    "       ['year'].value_counts()\n",
    "      )\n",
    "dfx"
   ]
  },
  {
   "cell_type": "code",
   "execution_count": 20,
   "metadata": {},
   "outputs": [
    {
     "data": {
      "text/plain": [
       "2016    437\n",
       "2017    298\n",
       "2015    292\n",
       "2018      7\n",
       "2014      3\n",
       "Name: year, dtype: int64"
      ]
     },
     "execution_count": 20,
     "metadata": {},
     "output_type": "execute_result"
    }
   ],
   "source": [
    "# what year did the Taco Bell chani grow the most?\n",
    "dfx = (df\n",
    "       .loc[lambda df: df['name']\n",
    "            .str.contains('Taco Bell')]\n",
    "       ['year'].value_counts()\n",
    "      )\n",
    "dfx"
   ]
  },
  {
   "cell_type": "code",
   "execution_count": 35,
   "metadata": {},
   "outputs": [
    {
     "data": {
      "text/plain": [
       "78209    10\n",
       "32809     9\n",
       "30721     9\n",
       "92647     9\n",
       "30606     9\n",
       "75150     9\n",
       "89103     8\n",
       "32765     8\n",
       "95610     8\n",
       "50021     8\n",
       "43026     8\n",
       "32810     8\n",
       "31210     8\n",
       "54701     8\n",
       "29303     8\n",
       "85323     8\n",
       "92335     8\n",
       "44691     7\n",
       "33015     7\n",
       "97402     7\n",
       "Name: postalCode, dtype: int64"
      ]
     },
     "execution_count": 35,
     "metadata": {},
     "output_type": "execute_result"
    }
   ],
   "source": [
    "df['postalCode'].value_counts().nlargest(20)"
   ]
  },
  {
   "cell_type": "code",
   "execution_count": 5,
   "metadata": {},
   "outputs": [
    {
     "data": {
      "text/plain": [
       "McDonald's             1898\n",
       "Taco Bell              1032\n",
       "Burger King             833\n",
       "Subway                  776\n",
       "Arby's                  663\n",
       "                       ... \n",
       "PepperJax Grill           1\n",
       "Wienerschitzel            1\n",
       "Old Mill Crab House       1\n",
       "Mustard Seed              1\n",
       "Sub Conscious             1\n",
       "Name: name, Length: 571, dtype: int64"
      ]
     },
     "execution_count": 5,
     "metadata": {},
     "output_type": "execute_result"
    }
   ],
   "source": [
    "#Most common fast-food restaurants in the US\n",
    "df['name'].value_counts()"
   ]
  },
  {
   "cell_type": "code",
   "execution_count": 88,
   "metadata": {},
   "outputs": [
    {
     "name": "stdout",
     "output_type": "stream",
     "text": [
      "              city country        name state\n",
      "25     Schenectady      US  McDonald's    NY\n",
      "26        Kingston      US  McDonald's    NY\n",
      "27        New York      US  McDonald's    NY\n",
      "28        New York      US  McDonald's    NY\n",
      "29       Uniondale      US  McDonald's    NY\n",
      "...            ...     ...         ...   ...\n",
      "9986        Dallas      US  McDonald's    TX\n",
      "9987        Dallas      US  McDonald's    TX\n",
      "9989        Dundee      US  McDonald's    MI\n",
      "9991  Port Hueneme      US  McDonald's    CA\n",
      "9993        Oxnard      US  McDonald's    CA\n",
      "\n",
      "[1943 rows x 4 columns]\n"
     ]
    }
   ],
   "source": [
    "#Frequency of McDonalds in the US\n",
    "df1 = df.loc[lambda df: df['name'].str.contains('McDonald')]\n",
    "print(df1)"
   ]
  },
  {
   "cell_type": "code",
   "execution_count": 7,
   "metadata": {},
   "outputs": [
    {
     "name": "stdout",
     "output_type": "stream",
     "text": [
      "               city country       name state\n",
      "2      Pigeon Forge      US  Taco Bell    TN\n",
      "53            Wylie      US  Taco Bell    TX\n",
      "54            Tyler      US  Taco Bell    TX\n",
      "127     Belle Glade      US  Taco Bell    FL\n",
      "153        Claymont      US  Taco Bell    DE\n",
      "...             ...     ...        ...   ...\n",
      "9889  Pompano Beach      US  Taco Bell    FL\n",
      "9926    Schenectady      US  Taco Bell    NY\n",
      "9930          Yukon      US  Taco Bell    OK\n",
      "9944         Monroe      US  Taco Bell    NY\n",
      "9971      Englewood      US  Taco Bell    OH\n",
      "\n",
      "[1037 rows x 4 columns]\n"
     ]
    }
   ],
   "source": [
    "#Frequency of Taco Bell in the US\n",
    "df2 = df.loc[lambda df: df['name'].str.contains('Taco Bell')]\n",
    "print(df2)"
   ]
  },
  {
   "cell_type": "code",
   "execution_count": 63,
   "metadata": {},
   "outputs": [
    {
     "data": {
      "text/plain": [
       "Text(0.5, 0, 'Frequency')"
      ]
     },
     "execution_count": 63,
     "metadata": {},
     "output_type": "execute_result"
    },
    {
     "data": {
      "image/png": "[encoded data removed]",
      "text/plain": [
       "<Figure size 720x720 with 1 Axes>"
      ]
     },
     "metadata": {
      "needs_background": "light"
     },
     "output_type": "display_data"
    }
   ],
   "source": [
    "#What state has the most Taco Bells?\n",
    "CountStatus = df2['state'].value_counts()\n",
    "\n",
    "CountStatus.plot.barh()\n",
    "plt.rcParams['figure.figsize'] = (10,10)\n",
    "plt.xticks(fontsize = 12)\n",
    "plt.title('Frequency of Taco Bells per State', fontsize = 16)\n",
    "plt.ylabel('State', fontsize = 16)\n",
    "plt.xlabel('Frequency', fontsize = 16)"
   ]
  },
  {
   "cell_type": "code",
   "execution_count": 62,
   "metadata": {},
   "outputs": [
    {
     "data": {
      "text/plain": [
       "Text(0.5, 0, 'Frequency')"
      ]
     },
     "execution_count": 62,
     "metadata": {},
     "output_type": "execute_result"
    },
    {
     "data": {
      "image/png": "[encoded data removed]",
      "text/plain": [
       "<Figure size 720x720 with 1 Axes>"
      ]
     },
     "metadata": {
      "needs_background": "light"
     },
     "output_type": "display_data"
    }
   ],
   "source": [
    "#What state has the most McDonalds?\n",
    "\n",
    "CountStatus1 = df1['state'].value_counts()\n",
    "\n",
    "CountStatus1.plot.barh()\n",
    "plt.rcParams['figure.figsize'] = (10,10)\n",
    "plt.xticks(fontsize = 12)\n",
    "plt.title('Frequency of McDonalds per State', fontsize = 16)\n",
    "plt.ylabel('State', fontsize = 16)\n",
    "plt.xlabel('Frequency', fontsize = 16)"
   ]
  },
  {
   "cell_type": "code",
   "execution_count": 81,
   "metadata": {},
   "outputs": [
    {
     "name": "stdout",
     "output_type": "stream",
     "text": [
      "Houston       27\n",
      "Las Vegas     19\n",
      "Louisville    18\n",
      "Orlando       18\n",
      "Miami         17\n",
      "Name: city, dtype: int64\n"
     ]
    },
    {
     "data": {
      "text/plain": [
       "(array([ 0.,  5., 10., 15., 20., 25., 30.]),\n",
       " <a list of 7 Text major ticklabel objects>)"
      ]
     },
     "execution_count": 81,
     "metadata": {},
     "output_type": "execute_result"
    },
    {
     "data": {
      "image/png": "[encoded data removed]",
      "text/plain": [
       "<Figure size 720x720 with 1 Axes>"
      ]
     },
     "metadata": {
      "needs_background": "light"
     },
     "output_type": "display_data"
    }
   ],
   "source": [
    "#Cities with McDonalds *top 5*\n",
    "df5 = df1['city'].value_counts().nlargest(5)\n",
    "print(df5)\n",
    "df5.plot.bar()\n",
    "plt.title('Top Five Cities with the Most McDonalds', fontsize = 14)\n",
    "plt.ylabel('Count', fontsize = 12)\n",
    "plt.xlabel('City', fontsize = 12)\n",
    "plt.xticks(fontsize = 12)\n",
    "plt.yticks(fontsize = 12)"
   ]
  },
  {
   "cell_type": "code",
   "execution_count": 92,
   "metadata": {},
   "outputs": [
    {
     "name": "stdout",
     "output_type": "stream",
     "text": [
      "Columbus     15\n",
      "Las Vegas    11\n",
      "Phoenix      11\n",
      "Orlando      10\n",
      "Glendale     10\n",
      "Name: city, dtype: int64\n"
     ]
    }
   ],
   "source": [
    "#Cities with Taco Bells *top 5*\n",
    "df6 = df2['city'].value_counts().nlargest(5)\n",
    "print(df6)"
   ]
  },
  {
   "cell_type": "code",
   "execution_count": null,
   "metadata": {},
   "outputs": [],
   "source": []
  }
 ],
 "metadata": {
  "kernelspec": {
   "display_name": "Python 3",
   "language": "python",
   "name": "python3"
  },
  "language_info": {
   "codemirror_mode": {
    "name": "ipython",
    "version": 3
   },
   "file_extension": ".py",
   "mimetype": "text/x-python",
   "name": "python",
   "nbconvert_exporter": "python",
   "pygments_lexer": "ipython3",
   "version": "3.8.3"
  }
 },
 "nbformat": 4,
 "nbformat_minor": 4
}
