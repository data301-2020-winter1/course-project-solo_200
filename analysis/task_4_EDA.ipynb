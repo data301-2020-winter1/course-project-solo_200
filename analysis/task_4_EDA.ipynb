{
 "cells": [
  {
   "cell_type": "code",
   "execution_count": null,
   "metadata": {},
   "outputs": [],
   "source": [
    "# Exploring the dataset"
   ]
  },
  {
   "cell_type": "code",
   "execution_count": 1,
   "metadata": {},
   "outputs": [],
   "source": [
    "from os import path\n",
    "import pandas as pd\n",
    "import numpy as np\n",
    "import seaborn as sns\n",
    "import matplotlib.pyplot as plt"
   ]
  },
  {
   "cell_type": "code",
   "execution_count": 5,
   "metadata": {},
   "outputs": [
    {
     "data": {
      "text/html": [
       "<div>\n",
       "<style scoped>\n",
       "    .dataframe tbody tr th:only-of-type {\n",
       "        vertical-align: middle;\n",
       "    }\n",
       "\n",
       "    .dataframe tbody tr th {\n",
       "        vertical-align: top;\n",
       "    }\n",
       "\n",
       "    .dataframe thead th {\n",
       "        text-align: right;\n",
       "    }\n",
       "</style>\n",
       "<table border=\"1\" class=\"dataframe\">\n",
       "  <thead>\n",
       "    <tr style=\"text-align: right;\">\n",
       "      <th></th>\n",
       "      <th>city</th>\n",
       "      <th>country</th>\n",
       "      <th>name</th>\n",
       "      <th>state</th>\n",
       "    </tr>\n",
       "  </thead>\n",
       "  <tbody>\n",
       "    <tr>\n",
       "      <th>0</th>\n",
       "      <td>Thibodaux</td>\n",
       "      <td>US</td>\n",
       "      <td>SONIC Drive In</td>\n",
       "      <td>LA</td>\n",
       "    </tr>\n",
       "    <tr>\n",
       "      <th>1</th>\n",
       "      <td>Thibodaux</td>\n",
       "      <td>US</td>\n",
       "      <td>SONIC Drive In</td>\n",
       "      <td>LA</td>\n",
       "    </tr>\n",
       "    <tr>\n",
       "      <th>2</th>\n",
       "      <td>Pigeon Forge</td>\n",
       "      <td>US</td>\n",
       "      <td>Taco Bell</td>\n",
       "      <td>TN</td>\n",
       "    </tr>\n",
       "    <tr>\n",
       "      <th>3</th>\n",
       "      <td>Pigeon Forge</td>\n",
       "      <td>US</td>\n",
       "      <td>Arby's</td>\n",
       "      <td>TN</td>\n",
       "    </tr>\n",
       "    <tr>\n",
       "      <th>4</th>\n",
       "      <td>Morrow</td>\n",
       "      <td>US</td>\n",
       "      <td>Steak 'n Shake</td>\n",
       "      <td>GA</td>\n",
       "    </tr>\n",
       "    <tr>\n",
       "      <th>...</th>\n",
       "      <td>...</td>\n",
       "      <td>...</td>\n",
       "      <td>...</td>\n",
       "      <td>...</td>\n",
       "    </tr>\n",
       "    <tr>\n",
       "      <th>9995</th>\n",
       "      <td>Winston-Salem</td>\n",
       "      <td>US</td>\n",
       "      <td>Pizza Hut</td>\n",
       "      <td>NC</td>\n",
       "    </tr>\n",
       "    <tr>\n",
       "      <th>9996</th>\n",
       "      <td>Winston-Salem</td>\n",
       "      <td>US</td>\n",
       "      <td>Pizza Hut</td>\n",
       "      <td>NC</td>\n",
       "    </tr>\n",
       "    <tr>\n",
       "      <th>9997</th>\n",
       "      <td>Kernersville</td>\n",
       "      <td>US</td>\n",
       "      <td>Pizza Hut</td>\n",
       "      <td>NC</td>\n",
       "    </tr>\n",
       "    <tr>\n",
       "      <th>9998</th>\n",
       "      <td>Wilson</td>\n",
       "      <td>US</td>\n",
       "      <td>Pizza Hut</td>\n",
       "      <td>NC</td>\n",
       "    </tr>\n",
       "    <tr>\n",
       "      <th>9999</th>\n",
       "      <td>Elizabethtown</td>\n",
       "      <td>US</td>\n",
       "      <td>Pizza Hut</td>\n",
       "      <td>NC</td>\n",
       "    </tr>\n",
       "  </tbody>\n",
       "</table>\n",
       "<p>10000 rows × 4 columns</p>\n",
       "</div>"
      ],
      "text/plain": [
       "               city country            name state\n",
       "0         Thibodaux      US  SONIC Drive In    LA\n",
       "1         Thibodaux      US  SONIC Drive In    LA\n",
       "2      Pigeon Forge      US       Taco Bell    TN\n",
       "3      Pigeon Forge      US          Arby's    TN\n",
       "4            Morrow      US  Steak 'n Shake    GA\n",
       "...             ...     ...             ...   ...\n",
       "9995  Winston-Salem      US       Pizza Hut    NC\n",
       "9996  Winston-Salem      US       Pizza Hut    NC\n",
       "9997   Kernersville      US       Pizza Hut    NC\n",
       "9998         Wilson      US       Pizza Hut    NC\n",
       "9999  Elizabethtown      US       Pizza Hut    NC\n",
       "\n",
       "[10000 rows x 4 columns]"
      ]
     },
     "execution_count": 5,
     "metadata": {},
     "output_type": "execute_result"
    }
   ],
   "source": [
    "df = (\n",
    "pd.read_csv(\"/Users/aidenb/Documents/Year_3/DATA_301/Project/Datafiniti_Fast_Food_Restaurants.csv\")\n",
    "    \n",
    "    .dropna()\n",
    "    .rename(columns = {'province':'state'})\n",
    "    .drop(['address',\n",
    "           'keys',\n",
    "           'latitude',\n",
    "           'longitude',\n",
    "           'postalCode',\n",
    "           'websites',\n",
    "           'sourceURLs',\n",
    "           'id',\n",
    "           'dateAdded',\n",
    "           'dateUpdated',\n",
    "           'categories'],\n",
    "         axis = 1)\n",
    ")\n",
    "df"
   ]
  },
  {
   "cell_type": "code",
   "execution_count": 86,
   "metadata": {},
   "outputs": [
    {
     "data": {
      "text/plain": [
       "McDonald's         1898\n",
       "Taco Bell          1032\n",
       "Burger King         833\n",
       "Subway              776\n",
       "Arby's              663\n",
       "                   ... \n",
       "Italo's Pizza         1\n",
       "Parkside Gyros        1\n",
       "Ben and Jerry's       1\n",
       "Peach Garden          1\n",
       "Richard's Pizza       1\n",
       "Name: name, Length: 571, dtype: int64"
      ]
     },
     "execution_count": 86,
     "metadata": {},
     "output_type": "execute_result"
    }
   ],
   "source": [
    "#Most common fast food restaurants in the US\n",
    "df['name'].value_counts()"
   ]
  },
  {
   "cell_type": "code",
   "execution_count": 83,
   "metadata": {},
   "outputs": [
    {
     "name": "stdout",
     "output_type": "stream",
     "text": [
      "              city country        name state\n",
      "25     Schenectady      US  McDonald's    NY\n",
      "26        Kingston      US  McDonald's    NY\n",
      "27        New York      US  McDonald's    NY\n",
      "28        New York      US  McDonald's    NY\n",
      "29       Uniondale      US  McDonald's    NY\n",
      "...            ...     ...         ...   ...\n",
      "9986        Dallas      US  McDonald's    TX\n",
      "9987        Dallas      US  McDonald's    TX\n",
      "9989        Dundee      US  McDonald's    MI\n",
      "9991  Port Hueneme      US  McDonald's    CA\n",
      "9993        Oxnard      US  McDonald's    CA\n",
      "\n",
      "[1943 rows x 4 columns]\n"
     ]
    }
   ],
   "source": [
    "#Frequency of McDonalds in the US\n",
    "df1 = df.loc[lambda df: df['name'].str.contains('McDonald')]\n",
    "print(df1)"
   ]
  },
  {
   "cell_type": "code",
   "execution_count": 78,
   "metadata": {},
   "outputs": [
    {
     "name": "stdout",
     "output_type": "stream",
     "text": [
      "               city country       name state\n",
      "2      Pigeon Forge      US  Taco Bell    TN\n",
      "53            Wylie      US  Taco Bell    TX\n",
      "54            Tyler      US  Taco Bell    TX\n",
      "127     Belle Glade      US  Taco Bell    FL\n",
      "153        Claymont      US  Taco Bell    DE\n",
      "...             ...     ...        ...   ...\n",
      "9889  Pompano Beach      US  Taco Bell    FL\n",
      "9926    Schenectady      US  Taco Bell    NY\n",
      "9930          Yukon      US  Taco Bell    OK\n",
      "9944         Monroe      US  Taco Bell    NY\n",
      "9971      Englewood      US  Taco Bell    OH\n",
      "\n",
      "[1037 rows x 4 columns]\n"
     ]
    }
   ],
   "source": [
    "#Frequency of Taco Bell in the US\n",
    "df2 = df.loc[lambda df: df['name'].str.contains('Taco Bell')]\n",
    "print(df2)"
   ]
  },
  {
   "cell_type": "code",
   "execution_count": 82,
   "metadata": {},
   "outputs": [
    {
     "data": {
      "text/plain": [
       "CA    123\n",
       "FL     75\n",
       "TX     61\n",
       "MI     55\n",
       "AZ     53\n",
       "OH     45\n",
       "IN     45\n",
       "GA     44\n",
       "MO     43\n",
       "IL     36\n",
       "WA     30\n",
       "VA     30\n",
       "CO     27\n",
       "LA     25\n",
       "TN     24\n",
       "NY     22\n",
       "KY     22\n",
       "WI     21\n",
       "NV     20\n",
       "MD     20\n",
       "NC     17\n",
       "AR     16\n",
       "KS     15\n",
       "MN     15\n",
       "PA     14\n",
       "NJ     14\n",
       "OR     13\n",
       "NM     13\n",
       "SC     12\n",
       "OK     10\n",
       "MA      9\n",
       "NH      7\n",
       "WV      7\n",
       "UT      6\n",
       "NE      6\n",
       "DE      6\n",
       "MS      5\n",
       "CT      4\n",
       "ND      4\n",
       "IA      4\n",
       "AK      3\n",
       "MT      3\n",
       "AL      3\n",
       "ME      3\n",
       "SD      2\n",
       "ID      2\n",
       "VT      1\n",
       "WY      1\n",
       "HI      1\n",
       "Name: state, dtype: int64"
      ]
     },
     "execution_count": 82,
     "metadata": {},
     "output_type": "execute_result"
    }
   ],
   "source": [
    "#What state has the most Taco Bells?\n",
    "df2['state'].value_counts()"
   ]
  },
  {
   "cell_type": "code",
   "execution_count": 84,
   "metadata": {},
   "outputs": [
    {
     "data": {
      "text/plain": [
       "CA    158\n",
       "FL    147\n",
       "TX    138\n",
       "NY    105\n",
       "PA    102\n",
       "OH    101\n",
       "GA    100\n",
       "IL     79\n",
       "TN     72\n",
       "MI     72\n",
       "NC     68\n",
       "AZ     59\n",
       "MN     57\n",
       "OR     51\n",
       "KY     51\n",
       "WA     45\n",
       "LA     45\n",
       "MD     43\n",
       "WI     36\n",
       "MO     35\n",
       "OK     34\n",
       "MA     34\n",
       "SC     28\n",
       "NV     25\n",
       "NM     23\n",
       "IA     22\n",
       "NJ     21\n",
       "MS     19\n",
       "WV     19\n",
       "AR     18\n",
       "CO     14\n",
       "SD     13\n",
       "HI     12\n",
       "MT     11\n",
       "CT     11\n",
       "VA     10\n",
       "IN      9\n",
       "UT      8\n",
       "NH      7\n",
       "NE      7\n",
       "VT      7\n",
       "ME      6\n",
       "WY      6\n",
       "DE      5\n",
       "ND      4\n",
       "ID      3\n",
       "KS      2\n",
       "AK      1\n",
       "Name: state, dtype: int64"
      ]
     },
     "execution_count": 84,
     "metadata": {},
     "output_type": "execute_result"
    }
   ],
   "source": [
    "#What state has the most McDonalds?\n",
    "df1['state'].value_counts()"
   ]
  },
  {
   "cell_type": "code",
   "execution_count": 87,
   "metadata": {},
   "outputs": [
    {
     "data": {
      "text/plain": [
       "Houston         27\n",
       "Las Vegas       19\n",
       "Louisville      18\n",
       "Orlando         18\n",
       "Miami           17\n",
       "                ..\n",
       "Modesto          1\n",
       "Port Hueneme     1\n",
       "Madisonville     1\n",
       "Owings Mills     1\n",
       "Plainwell        1\n",
       "Name: city, Length: 1068, dtype: int64"
      ]
     },
     "execution_count": 87,
     "metadata": {},
     "output_type": "execute_result"
    }
   ],
   "source": [
    "#Cities with McDonalds *ranked*\n",
    "df1['city'].value_counts()"
   ]
  },
  {
   "cell_type": "code",
   "execution_count": 89,
   "metadata": {},
   "outputs": [
    {
     "data": {
      "text/plain": [
       "Columbus           15\n",
       "Las Vegas          11\n",
       "Phoenix            11\n",
       "Glendale           10\n",
       "Orlando            10\n",
       "                   ..\n",
       "Haddon Heights      1\n",
       "Loveland            1\n",
       "Morgan Hill         1\n",
       "Biloxi              1\n",
       "Franklin Square     1\n",
       "Name: city, Length: 672, dtype: int64"
      ]
     },
     "execution_count": 89,
     "metadata": {},
     "output_type": "execute_result"
    }
   ],
   "source": [
    "#Cities with Taco Bells *ranked*\n",
    "df2['city'].value_counts()"
   ]
  },
  {
   "cell_type": "code",
   "execution_count": null,
   "metadata": {},
   "outputs": [],
   "source": []
  }
 ],
 "metadata": {
  "kernelspec": {
   "display_name": "Python 3",
   "language": "python",
   "name": "python3"
  },
  "language_info": {
   "codemirror_mode": {
    "name": "ipython",
    "version": 3
   },
   "file_extension": ".py",
   "mimetype": "text/x-python",
   "name": "python",
   "nbconvert_exporter": "python",
   "pygments_lexer": "ipython3",
   "version": "3.8.3"
  }
 },
 "nbformat": 4,
 "nbformat_minor": 4
}
