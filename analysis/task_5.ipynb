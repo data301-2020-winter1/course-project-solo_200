{
 "cells": [
  {
   "cell_type": "code",
   "execution_count": 1,
   "metadata": {},
   "outputs": [],
   "source": [
    "# Answering the Research Questions"
   ]
  },
  {
   "cell_type": "code",
   "execution_count": 2,
   "metadata": {},
   "outputs": [],
   "source": [
    "from os import path\n",
    "import pandas as pd\n",
    "import numpy as np\n",
    "import seaborn as sns\n",
    "import matplotlib.pyplot as plt"
   ]
  },
  {
   "cell_type": "code",
   "execution_count": 4,
   "metadata": {},
   "outputs": [
    {
     "data": {
      "text/html": [
       "<div>\n",
       "<style scoped>\n",
       "    .dataframe tbody tr th:only-of-type {\n",
       "        vertical-align: middle;\n",
       "    }\n",
       "\n",
       "    .dataframe tbody tr th {\n",
       "        vertical-align: top;\n",
       "    }\n",
       "\n",
       "    .dataframe thead th {\n",
       "        text-align: right;\n",
       "    }\n",
       "</style>\n",
       "<table border=\"1\" class=\"dataframe\">\n",
       "  <thead>\n",
       "    <tr style=\"text-align: right;\">\n",
       "      <th></th>\n",
       "      <th>city</th>\n",
       "      <th>country</th>\n",
       "      <th>name</th>\n",
       "      <th>state</th>\n",
       "    </tr>\n",
       "  </thead>\n",
       "  <tbody>\n",
       "    <tr>\n",
       "      <th>0</th>\n",
       "      <td>Thibodaux</td>\n",
       "      <td>US</td>\n",
       "      <td>SONIC Drive In</td>\n",
       "      <td>LA</td>\n",
       "    </tr>\n",
       "    <tr>\n",
       "      <th>1</th>\n",
       "      <td>Thibodaux</td>\n",
       "      <td>US</td>\n",
       "      <td>SONIC Drive In</td>\n",
       "      <td>LA</td>\n",
       "    </tr>\n",
       "    <tr>\n",
       "      <th>2</th>\n",
       "      <td>Pigeon Forge</td>\n",
       "      <td>US</td>\n",
       "      <td>Taco Bell</td>\n",
       "      <td>TN</td>\n",
       "    </tr>\n",
       "    <tr>\n",
       "      <th>3</th>\n",
       "      <td>Pigeon Forge</td>\n",
       "      <td>US</td>\n",
       "      <td>Arby's</td>\n",
       "      <td>TN</td>\n",
       "    </tr>\n",
       "    <tr>\n",
       "      <th>4</th>\n",
       "      <td>Morrow</td>\n",
       "      <td>US</td>\n",
       "      <td>Steak 'n Shake</td>\n",
       "      <td>GA</td>\n",
       "    </tr>\n",
       "    <tr>\n",
       "      <th>...</th>\n",
       "      <td>...</td>\n",
       "      <td>...</td>\n",
       "      <td>...</td>\n",
       "      <td>...</td>\n",
       "    </tr>\n",
       "    <tr>\n",
       "      <th>9995</th>\n",
       "      <td>Winston-Salem</td>\n",
       "      <td>US</td>\n",
       "      <td>Pizza Hut</td>\n",
       "      <td>NC</td>\n",
       "    </tr>\n",
       "    <tr>\n",
       "      <th>9996</th>\n",
       "      <td>Winston-Salem</td>\n",
       "      <td>US</td>\n",
       "      <td>Pizza Hut</td>\n",
       "      <td>NC</td>\n",
       "    </tr>\n",
       "    <tr>\n",
       "      <th>9997</th>\n",
       "      <td>Kernersville</td>\n",
       "      <td>US</td>\n",
       "      <td>Pizza Hut</td>\n",
       "      <td>NC</td>\n",
       "    </tr>\n",
       "    <tr>\n",
       "      <th>9998</th>\n",
       "      <td>Wilson</td>\n",
       "      <td>US</td>\n",
       "      <td>Pizza Hut</td>\n",
       "      <td>NC</td>\n",
       "    </tr>\n",
       "    <tr>\n",
       "      <th>9999</th>\n",
       "      <td>Elizabethtown</td>\n",
       "      <td>US</td>\n",
       "      <td>Pizza Hut</td>\n",
       "      <td>NC</td>\n",
       "    </tr>\n",
       "  </tbody>\n",
       "</table>\n",
       "<p>10000 rows × 4 columns</p>\n",
       "</div>"
      ],
      "text/plain": [
       "               city country            name state\n",
       "0         Thibodaux      US  SONIC Drive In    LA\n",
       "1         Thibodaux      US  SONIC Drive In    LA\n",
       "2      Pigeon Forge      US       Taco Bell    TN\n",
       "3      Pigeon Forge      US          Arby's    TN\n",
       "4            Morrow      US  Steak 'n Shake    GA\n",
       "...             ...     ...             ...   ...\n",
       "9995  Winston-Salem      US       Pizza Hut    NC\n",
       "9996  Winston-Salem      US       Pizza Hut    NC\n",
       "9997   Kernersville      US       Pizza Hut    NC\n",
       "9998         Wilson      US       Pizza Hut    NC\n",
       "9999  Elizabethtown      US       Pizza Hut    NC\n",
       "\n",
       "[10000 rows x 4 columns]"
      ]
     },
     "execution_count": 4,
     "metadata": {},
     "output_type": "execute_result"
    }
   ],
   "source": [
    "df = (\n",
    "pd.read_csv(\"/Users/aidenb/Documents/Year_3/DATA_301/Project/Datafiniti_Fast_Food_Restaurants.csv\")\n",
    "    \n",
    "    .dropna()\n",
    "    .rename(columns = {'province':'state'})\n",
    "    .drop(['address',\n",
    "           'keys',\n",
    "           'latitude',\n",
    "           'longitude',\n",
    "           'postalCode',\n",
    "           'websites',\n",
    "           'sourceURLs',\n",
    "           'id',\n",
    "           'dateAdded',\n",
    "           'dateUpdated',\n",
    "           'categories'],\n",
    "         axis = 1)\n",
    ")\n",
    "df"
   ]
  },
  {
   "cell_type": "code",
   "execution_count": 5,
   "metadata": {},
   "outputs": [
    {
     "data": {
      "text/plain": [
       "McDonald's           1898\n",
       "Taco Bell            1032\n",
       "Burger King           833\n",
       "Subway                776\n",
       "Arby's                663\n",
       "                     ... \n",
       "Jim's Steakout          1\n",
       "The Hotdog Shoppe       1\n",
       "King Wah                1\n",
       "High Tech Burrito       1\n",
       "Garden Catering         1\n",
       "Name: name, Length: 571, dtype: int64"
      ]
     },
     "execution_count": 5,
     "metadata": {},
     "output_type": "execute_result"
    }
   ],
   "source": [
    "# Research Question 1:\n",
    "## What are the most common fast food restaurants in the US?\n",
    "\n",
    "df['name'].value_counts()"
   ]
  },
  {
   "cell_type": "code",
   "execution_count": 6,
   "metadata": {},
   "outputs": [
    {
     "data": {
      "text/plain": [
       "McDonald's         1898\n",
       "Taco Bell          1032\n",
       "Burger King         833\n",
       "Subway              776\n",
       "Arby's              663\n",
       "Wendy's             628\n",
       "Jack in the Box     330\n",
       "Pizza Hut           230\n",
       "Dairy Queen         218\n",
       "Domino's Pizza      215\n",
       "Name: name, dtype: int64"
      ]
     },
     "execution_count": 6,
     "metadata": {},
     "output_type": "execute_result"
    }
   ],
   "source": [
    "### What are the top ten most common fast food restaurants in the US?\n",
    "\n",
    "df['name'].value_counts().nlargest(10)"
   ]
  },
  {
   "cell_type": "code",
   "execution_count": 13,
   "metadata": {},
   "outputs": [
    {
     "data": {
      "text/plain": [
       "Text(0, 0.5, 'Restaurant')"
      ]
     },
     "execution_count": 13,
     "metadata": {},
     "output_type": "execute_result"
    },
    {
     "data": {
      "image/png": "[encoded data removed]",
      "text/plain": [
       "<Figure size 432x288 with 1 Axes>"
      ]
     },
     "metadata": {
      "needs_background": "light"
     },
     "output_type": "display_data"
    }
   ],
   "source": [
    "#### Visualize top 10 fast food restaurants\n",
    "\n",
    "vis1 = df['name'].value_counts().nlargest(10)\n",
    "\n",
    "vis1.plot.barh()\n",
    "plt.title('Top ten Fast Food Restaurants in the US', fontsize = 14)\n",
    "plt.xlabel('Count', fontsize = 12)\n",
    "plt.ylabel('Restaurant', fontsize = 12)"
   ]
  },
  {
   "cell_type": "code",
   "execution_count": 22,
   "metadata": {},
   "outputs": [
    {
     "data": {
      "text/plain": [
       "Houston          27\n",
       "Las Vegas        19\n",
       "Louisville       18\n",
       "Orlando          18\n",
       "Miami            17\n",
       "Charlotte        13\n",
       "Phoenix          13\n",
       "Oklahoma City    12\n",
       "Portland         12\n",
       "Minneapolis      12\n",
       "Name: city, dtype: int64"
      ]
     },
     "execution_count": 22,
     "metadata": {},
     "output_type": "execute_result"
    }
   ],
   "source": [
    "#Research Question 2:\n",
    "## What city has the most McDonalds per capita?\n",
    "\n",
    "df1 = (df\n",
    "       .loc[lambda df: df['name'].str.contains('McDonald')]\n",
    "       ['city'].value_counts().nlargest(10)\n",
    "      )\n",
    "df1"
   ]
  },
  {
   "cell_type": "code",
   "execution_count": 25,
   "metadata": {},
   "outputs": [
    {
     "data": {
      "text/plain": [
       "Text(0.5, 0, 'Count')"
      ]
     },
     "execution_count": 25,
     "metadata": {},
     "output_type": "execute_result"
    },
    {
     "data": {
      "image/png": "[encoded data removed]",
      "text/plain": [
       "<Figure size 432x288 with 1 Axes>"
      ]
     },
     "metadata": {
      "needs_background": "light"
     },
     "output_type": "display_data"
    }
   ],
   "source": [
    "### Visualize\n",
    "\n",
    "vis2 = df1\n",
    "vis2.plot.barh()\n",
    "plt.title('Top Ten Cities with the Most McDonalds Per Capita', fontsize = 14)\n",
    "plt.ylabel('Cities', fontsize = 12)\n",
    "plt.xlabel('Count', fontsize = 12)"
   ]
  },
  {
   "cell_type": "code",
   "execution_count": 26,
   "metadata": {},
   "outputs": [
    {
     "data": {
      "text/plain": [
       "Columbus        15\n",
       "Phoenix         11\n",
       "Las Vegas       11\n",
       "Orlando         10\n",
       "Glendale        10\n",
       "Dallas           9\n",
       "Denver           8\n",
       "Tucson           7\n",
       "Mesa             7\n",
       "Indianapolis     7\n",
       "Name: city, dtype: int64"
      ]
     },
     "execution_count": 26,
     "metadata": {},
     "output_type": "execute_result"
    }
   ],
   "source": [
    "## What city has the most Taco Bells per capita?\n",
    "\n",
    "df2 = (df\n",
    "      .loc[lambda df: df['name'].str.contains('Taco Bell')]\n",
    "      ['city'].value_counts().nlargest(10)\n",
    "      )\n",
    "df2"
   ]
  },
  {
   "cell_type": "code",
   "execution_count": 27,
   "metadata": {},
   "outputs": [
    {
     "data": {
      "text/plain": [
       "Text(0.5, 0, 'Count')"
      ]
     },
     "execution_count": 27,
     "metadata": {},
     "output_type": "execute_result"
    },
    {
     "data": {
      "image/png": "[encoded data removed]",
      "text/plain": [
       "<Figure size 432x288 with 1 Axes>"
      ]
     },
     "metadata": {
      "needs_background": "light"
     },
     "output_type": "display_data"
    }
   ],
   "source": [
    "### Visualize\n",
    "\n",
    "vis3 = df2\n",
    "vis3.plot.barh()\n",
    "plt.title('Top Ten Cities with the Most Taco Bells Per Capita', fontsize = 14)\n",
    "plt.ylabel('Cities', fontsize = 12)\n",
    "plt.xlabel('Count', fontsize = 12)"
   ]
  },
  {
   "cell_type": "code",
   "execution_count": 28,
   "metadata": {},
   "outputs": [
    {
     "data": {
      "text/plain": [
       "Columbus        15\n",
       "Phoenix         11\n",
       "Las Vegas       11\n",
       "Orlando         10\n",
       "Glendale        10\n",
       "Dallas           9\n",
       "Denver           8\n",
       "Tucson           7\n",
       "Mesa             7\n",
       "Indianapolis     7\n",
       "Name: city, dtype: int64"
      ]
     },
     "execution_count": 28,
     "metadata": {},
     "output_type": "execute_result"
    }
   ],
   "source": [
    "## What city has the most Burger Kings per capita?\n",
    "\n",
    "df3 = (df\n",
    "      .loc[lambda df: df['name'].str.contains('Taco Bell')]\n",
    "      ['city'].value_counts().nlargest(10)\n",
    "      )\n",
    "df3"
   ]
  },
  {
   "cell_type": "code",
   "execution_count": 29,
   "metadata": {},
   "outputs": [
    {
     "data": {
      "text/plain": [
       "Text(0.5, 0, 'Count')"
      ]
     },
     "execution_count": 29,
     "metadata": {},
     "output_type": "execute_result"
    },
    {
     "data": {
      "image/png": "[encoded data removed]",
      "text/plain": [
       "<Figure size 432x288 with 1 Axes>"
      ]
     },
     "metadata": {
      "needs_background": "light"
     },
     "output_type": "display_data"
    }
   ],
   "source": [
    "### Visualize\n",
    "\n",
    "vis4 = df3\n",
    "vis4.plot.barh()\n",
    "plt.title('Top Ten Cities with the Most Burger Kings Per Capita', fontsize = 14)\n",
    "plt.ylabel('Cities', fontsize = 12)\n",
    "plt.xlabel('Count', fontsize = 12)"
   ]
  },
  {
   "cell_type": "code",
   "execution_count": 37,
   "metadata": {},
   "outputs": [
    {
     "data": {
      "text/plain": [
       "Text(0.5, 0, 'State')"
      ]
     },
     "execution_count": 37,
     "metadata": {},
     "output_type": "execute_result"
    },
    {
     "data": {
      "image/png": "[encoded data removed]",
      "text/plain": [
       "<Figure size 1080x720 with 1 Axes>"
      ]
     },
     "metadata": {
      "needs_background": "light"
     },
     "output_type": "display_data"
    }
   ],
   "source": [
    "# Research Question 3:\n",
    "## What state has the most and what state has the least fast food restaurants per capita?\n",
    "\n",
    "df5 = df['state'].value_counts()\n",
    "\n",
    "df5.plot.bar()\n",
    "plt.rcParams['figure.figsize'] = (5,10)\n",
    "plt.xticks(fontsize = 12)\n",
    "plt.title('States with Fast Food Restaurants', fontsize = 16)\n",
    "plt.ylabel('Count', fontsize = 16)\n",
    "plt.xlabel('State', fontsize = 16)"
   ]
  },
  {
   "cell_type": "code",
   "execution_count": null,
   "metadata": {},
   "outputs": [],
   "source": [
    "### Analysis \n",
    "### - California has the most fast food restaurants per capita, and Alaska has the least.\n",
    "### - *Note - Alaska's popoulation is only marginally larger than Vermonts and has about 70 times the area than Vermont does.*"
   ]
  }
 ],
 "metadata": {
  "kernelspec": {
   "display_name": "Python 3",
   "language": "python",
   "name": "python3"
  },
  "language_info": {
   "codemirror_mode": {
    "name": "ipython",
    "version": 3
   },
   "file_extension": ".py",
   "mimetype": "text/x-python",
   "name": "python",
   "nbconvert_exporter": "python",
   "pygments_lexer": "ipython3",
   "version": "3.8.3"
  }
 },
 "nbformat": 4,
 "nbformat_minor": 4
}
