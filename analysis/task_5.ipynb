{
 "cells": [
  {
   "cell_type": "code",
   "execution_count": 1,
   "metadata": {},
   "outputs": [],
   "source": [
    "# Answering the Research Questions"
   ]
  },
  {
   "cell_type": "code",
   "execution_count": 48,
   "metadata": {},
   "outputs": [],
   "source": [
    "from os import path\n",
    "import pandas as pd\n",
    "import numpy as np\n",
    "import seaborn as sns\n",
    "import matplotlib.pyplot as plt"
   ]
  },
  {
   "cell_type": "code",
   "execution_count": 53,
   "metadata": {},
   "outputs": [
    {
     "data": {
      "text/html": [
       "<div>\n",
       "<style scoped>\n",
       "    .dataframe tbody tr th:only-of-type {\n",
       "        vertical-align: middle;\n",
       "    }\n",
       "\n",
       "    .dataframe tbody tr th {\n",
       "        vertical-align: top;\n",
       "    }\n",
       "\n",
       "    .dataframe thead th {\n",
       "        text-align: right;\n",
       "    }\n",
       "</style>\n",
       "<table border=\"1\" class=\"dataframe\">\n",
       "  <thead>\n",
       "    <tr style=\"text-align: right;\">\n",
       "      <th></th>\n",
       "      <th>dateAdded</th>\n",
       "      <th>city</th>\n",
       "      <th>country</th>\n",
       "      <th>latitude</th>\n",
       "      <th>longitude</th>\n",
       "      <th>name</th>\n",
       "      <th>postalCode</th>\n",
       "      <th>state</th>\n",
       "    </tr>\n",
       "  </thead>\n",
       "  <tbody>\n",
       "    <tr>\n",
       "      <th>0</th>\n",
       "      <td>2015-10-19T23:47:58Z</td>\n",
       "      <td>Thibodaux</td>\n",
       "      <td>US</td>\n",
       "      <td>29.814697</td>\n",
       "      <td>-90.814742</td>\n",
       "      <td>SONIC Drive In</td>\n",
       "      <td>70301</td>\n",
       "      <td>LA</td>\n",
       "    </tr>\n",
       "    <tr>\n",
       "      <th>1</th>\n",
       "      <td>2015-10-19T23:47:58Z</td>\n",
       "      <td>Thibodaux</td>\n",
       "      <td>US</td>\n",
       "      <td>29.814697</td>\n",
       "      <td>-90.814742</td>\n",
       "      <td>SONIC Drive In</td>\n",
       "      <td>70301</td>\n",
       "      <td>LA</td>\n",
       "    </tr>\n",
       "    <tr>\n",
       "      <th>2</th>\n",
       "      <td>2016-03-29T05:06:36Z</td>\n",
       "      <td>Pigeon Forge</td>\n",
       "      <td>US</td>\n",
       "      <td>35.803788</td>\n",
       "      <td>-83.580553</td>\n",
       "      <td>Taco Bell</td>\n",
       "      <td>37863</td>\n",
       "      <td>TN</td>\n",
       "    </tr>\n",
       "    <tr>\n",
       "      <th>3</th>\n",
       "      <td>2017-01-03T07:46:11Z</td>\n",
       "      <td>Pigeon Forge</td>\n",
       "      <td>US</td>\n",
       "      <td>35.782339</td>\n",
       "      <td>-83.551408</td>\n",
       "      <td>Arby's</td>\n",
       "      <td>37863</td>\n",
       "      <td>TN</td>\n",
       "    </tr>\n",
       "    <tr>\n",
       "      <th>4</th>\n",
       "      <td>2018-06-26T02:59:43Z</td>\n",
       "      <td>Morrow</td>\n",
       "      <td>US</td>\n",
       "      <td>33.562738</td>\n",
       "      <td>-84.321143</td>\n",
       "      <td>Steak 'n Shake</td>\n",
       "      <td>30260</td>\n",
       "      <td>GA</td>\n",
       "    </tr>\n",
       "    <tr>\n",
       "      <th>...</th>\n",
       "      <td>...</td>\n",
       "      <td>...</td>\n",
       "      <td>...</td>\n",
       "      <td>...</td>\n",
       "      <td>...</td>\n",
       "      <td>...</td>\n",
       "      <td>...</td>\n",
       "      <td>...</td>\n",
       "    </tr>\n",
       "    <tr>\n",
       "      <th>9995</th>\n",
       "      <td>2017-07-24T21:28:46Z</td>\n",
       "      <td>Winston-Salem</td>\n",
       "      <td>US</td>\n",
       "      <td>36.117563</td>\n",
       "      <td>-80.316553</td>\n",
       "      <td>Pizza Hut</td>\n",
       "      <td>27106</td>\n",
       "      <td>NC</td>\n",
       "    </tr>\n",
       "    <tr>\n",
       "      <th>9996</th>\n",
       "      <td>2017-07-24T21:28:46Z</td>\n",
       "      <td>Winston-Salem</td>\n",
       "      <td>US</td>\n",
       "      <td>36.077718</td>\n",
       "      <td>-80.176748</td>\n",
       "      <td>Pizza Hut</td>\n",
       "      <td>27107</td>\n",
       "      <td>NC</td>\n",
       "    </tr>\n",
       "    <tr>\n",
       "      <th>9997</th>\n",
       "      <td>2015-10-24T00:17:32Z</td>\n",
       "      <td>Kernersville</td>\n",
       "      <td>US</td>\n",
       "      <td>36.111015</td>\n",
       "      <td>-80.089165</td>\n",
       "      <td>Pizza Hut</td>\n",
       "      <td>27284</td>\n",
       "      <td>NC</td>\n",
       "    </tr>\n",
       "    <tr>\n",
       "      <th>9998</th>\n",
       "      <td>2016-04-05T02:59:45Z</td>\n",
       "      <td>Wilson</td>\n",
       "      <td>US</td>\n",
       "      <td>35.719981</td>\n",
       "      <td>-77.945795</td>\n",
       "      <td>Pizza Hut</td>\n",
       "      <td>27893</td>\n",
       "      <td>NC</td>\n",
       "    </tr>\n",
       "    <tr>\n",
       "      <th>9999</th>\n",
       "      <td>2016-11-08T02:26:32Z</td>\n",
       "      <td>Elizabethtown</td>\n",
       "      <td>US</td>\n",
       "      <td>34.632778</td>\n",
       "      <td>-78.624615</td>\n",
       "      <td>Pizza Hut</td>\n",
       "      <td>28337</td>\n",
       "      <td>NC</td>\n",
       "    </tr>\n",
       "  </tbody>\n",
       "</table>\n",
       "<p>10000 rows × 8 columns</p>\n",
       "</div>"
      ],
      "text/plain": [
       "                 dateAdded           city country   latitude  longitude  \\\n",
       "0     2015-10-19T23:47:58Z      Thibodaux      US  29.814697 -90.814742   \n",
       "1     2015-10-19T23:47:58Z      Thibodaux      US  29.814697 -90.814742   \n",
       "2     2016-03-29T05:06:36Z   Pigeon Forge      US  35.803788 -83.580553   \n",
       "3     2017-01-03T07:46:11Z   Pigeon Forge      US  35.782339 -83.551408   \n",
       "4     2018-06-26T02:59:43Z         Morrow      US  33.562738 -84.321143   \n",
       "...                    ...            ...     ...        ...        ...   \n",
       "9995  2017-07-24T21:28:46Z  Winston-Salem      US  36.117563 -80.316553   \n",
       "9996  2017-07-24T21:28:46Z  Winston-Salem      US  36.077718 -80.176748   \n",
       "9997  2015-10-24T00:17:32Z   Kernersville      US  36.111015 -80.089165   \n",
       "9998  2016-04-05T02:59:45Z         Wilson      US  35.719981 -77.945795   \n",
       "9999  2016-11-08T02:26:32Z  Elizabethtown      US  34.632778 -78.624615   \n",
       "\n",
       "                name postalCode state  \n",
       "0     SONIC Drive In      70301    LA  \n",
       "1     SONIC Drive In      70301    LA  \n",
       "2          Taco Bell      37863    TN  \n",
       "3             Arby's      37863    TN  \n",
       "4     Steak 'n Shake      30260    GA  \n",
       "...              ...        ...   ...  \n",
       "9995       Pizza Hut      27106    NC  \n",
       "9996       Pizza Hut      27107    NC  \n",
       "9997       Pizza Hut      27284    NC  \n",
       "9998       Pizza Hut      27893    NC  \n",
       "9999       Pizza Hut      28337    NC  \n",
       "\n",
       "[10000 rows x 8 columns]"
      ]
     },
     "execution_count": 53,
     "metadata": {},
     "output_type": "execute_result"
    }
   ],
   "source": [
    "df = (\n",
    "pd.read_csv(\"/Users/aidenb/Documents/Year_3/DATA_301/Project/Datafiniti_Fast_Food_Restaurants.csv\")\n",
    "    \n",
    "    .dropna()\n",
    "    .rename(columns = {'province':'state'})\n",
    "    .drop(['address',\n",
    "           'keys',\n",
    "           'websites',\n",
    "           'sourceURLs',\n",
    "           'id',\n",
    "           'dateUpdated',\n",
    "           'categories'],\n",
    "         axis = 1)\n",
    ")\n",
    "df"
   ]
  },
  {
   "cell_type": "code",
   "execution_count": 3,
   "metadata": {},
   "outputs": [
    {
     "data": {
      "text/plain": [
       "McDonald's                         1898\n",
       "Taco Bell                          1032\n",
       "Burger King                         833\n",
       "Subway                              776\n",
       "Arby's                              663\n",
       "                                   ... \n",
       "Ben and Jerry's                       1\n",
       "Tom's Drive In                        1\n",
       "The Dog Pit                           1\n",
       "Great American Hamburger Pie Co       1\n",
       "Five Guys Burgers Fries               1\n",
       "Name: name, Length: 571, dtype: int64"
      ]
     },
     "execution_count": 3,
     "metadata": {},
     "output_type": "execute_result"
    }
   ],
   "source": [
    "# Research Question 1:\n",
    "## What are the most common fast food restaurants in the US?\n",
    "\n",
    "df['name'].value_counts()"
   ]
  },
  {
   "cell_type": "code",
   "execution_count": 6,
   "metadata": {},
   "outputs": [
    {
     "data": {
      "text/plain": [
       "McDonald's         1898\n",
       "Taco Bell          1032\n",
       "Burger King         833\n",
       "Subway              776\n",
       "Arby's              663\n",
       "Wendy's             628\n",
       "Jack in the Box     330\n",
       "Pizza Hut           230\n",
       "Dairy Queen         218\n",
       "Domino's Pizza      215\n",
       "Name: name, dtype: int64"
      ]
     },
     "execution_count": 6,
     "metadata": {},
     "output_type": "execute_result"
    }
   ],
   "source": [
    "### What are the top ten most common fast food restaurants in the US?\n",
    "\n",
    "df['name'].value_counts().nlargest(10)"
   ]
  },
  {
   "cell_type": "code",
   "execution_count": 13,
   "metadata": {},
   "outputs": [
    {
     "data": {
      "text/plain": [
       "Text(0, 0.5, 'Restaurant')"
      ]
     },
     "execution_count": 13,
     "metadata": {},
     "output_type": "execute_result"
    },
    {
     "data": {
      "image/png": "[encoded data removed]",
      "text/plain": [
       "<Figure size 432x288 with 1 Axes>"
      ]
     },
     "metadata": {
      "needs_background": "light"
     },
     "output_type": "display_data"
    }
   ],
   "source": [
    "#### Visualize top 10 fast food restaurants\n",
    "\n",
    "vis1 = df['name'].value_counts().nlargest(10)\n",
    "\n",
    "vis1.plot.barh()\n",
    "plt.title('Top ten Fast Food Restaurants in the US', fontsize = 14)\n",
    "plt.xlabel('Count', fontsize = 12)\n",
    "plt.ylabel('Restaurant', fontsize = 12)"
   ]
  },
  {
   "cell_type": "code",
   "execution_count": 22,
   "metadata": {},
   "outputs": [
    {
     "data": {
      "text/plain": [
       "Houston          27\n",
       "Las Vegas        19\n",
       "Louisville       18\n",
       "Orlando          18\n",
       "Miami            17\n",
       "Charlotte        13\n",
       "Phoenix          13\n",
       "Oklahoma City    12\n",
       "Portland         12\n",
       "Minneapolis      12\n",
       "Name: city, dtype: int64"
      ]
     },
     "execution_count": 22,
     "metadata": {},
     "output_type": "execute_result"
    }
   ],
   "source": [
    "#Research Question 2:\n",
    "## What city has the most McDonalds per capita?\n",
    "\n",
    "df1 = (df\n",
    "       .loc[lambda df: df['name'].str.contains('McDonald')]\n",
    "       ['city'].value_counts().nlargest(10)\n",
    "      )\n",
    "df1"
   ]
  },
  {
   "cell_type": "code",
   "execution_count": 25,
   "metadata": {},
   "outputs": [
    {
     "data": {
      "text/plain": [
       "Text(0.5, 0, 'Count')"
      ]
     },
     "execution_count": 25,
     "metadata": {},
     "output_type": "execute_result"
    },
    {
     "data": {
      "image/png": "[encoded data removed]",
      "text/plain": [
       "<Figure size 432x288 with 1 Axes>"
      ]
     },
     "metadata": {
      "needs_background": "light"
     },
     "output_type": "display_data"
    }
   ],
   "source": [
    "### Visualize\n",
    "\n",
    "vis2 = df1\n",
    "vis2.plot.barh()\n",
    "plt.title('Top Ten Cities with the Most McDonalds Per Capita', fontsize = 14)\n",
    "plt.ylabel('Cities', fontsize = 12)\n",
    "plt.xlabel('Count', fontsize = 12)"
   ]
  },
  {
   "cell_type": "code",
   "execution_count": 26,
   "metadata": {},
   "outputs": [
    {
     "data": {
      "text/plain": [
       "Columbus        15\n",
       "Phoenix         11\n",
       "Las Vegas       11\n",
       "Orlando         10\n",
       "Glendale        10\n",
       "Dallas           9\n",
       "Denver           8\n",
       "Tucson           7\n",
       "Mesa             7\n",
       "Indianapolis     7\n",
       "Name: city, dtype: int64"
      ]
     },
     "execution_count": 26,
     "metadata": {},
     "output_type": "execute_result"
    }
   ],
   "source": [
    "## What city has the most Taco Bells per capita?\n",
    "\n",
    "df2 = (df\n",
    "      .loc[lambda df: df['name'].str.contains('Taco Bell')]\n",
    "      ['city'].value_counts().nlargest(10)\n",
    "      )\n",
    "df2"
   ]
  },
  {
   "cell_type": "code",
   "execution_count": 27,
   "metadata": {},
   "outputs": [
    {
     "data": {
      "text/plain": [
       "Text(0.5, 0, 'Count')"
      ]
     },
     "execution_count": 27,
     "metadata": {},
     "output_type": "execute_result"
    },
    {
     "data": {
      "image/png": "[encoded data removed]",
      "text/plain": [
       "<Figure size 432x288 with 1 Axes>"
      ]
     },
     "metadata": {
      "needs_background": "light"
     },
     "output_type": "display_data"
    }
   ],
   "source": [
    "### Visualize\n",
    "\n",
    "vis3 = df2\n",
    "vis3.plot.barh()\n",
    "plt.title('Top Ten Cities with the Most Taco Bells Per Capita', fontsize = 14)\n",
    "plt.ylabel('Cities', fontsize = 12)\n",
    "plt.xlabel('Count', fontsize = 12)"
   ]
  },
  {
   "cell_type": "code",
   "execution_count": 28,
   "metadata": {},
   "outputs": [
    {
     "data": {
      "text/plain": [
       "Columbus        15\n",
       "Phoenix         11\n",
       "Las Vegas       11\n",
       "Orlando         10\n",
       "Glendale        10\n",
       "Dallas           9\n",
       "Denver           8\n",
       "Tucson           7\n",
       "Mesa             7\n",
       "Indianapolis     7\n",
       "Name: city, dtype: int64"
      ]
     },
     "execution_count": 28,
     "metadata": {},
     "output_type": "execute_result"
    }
   ],
   "source": [
    "## What city has the most Burger Kings per capita?\n",
    "\n",
    "df3 = (df\n",
    "      .loc[lambda df: df['name'].str.contains('Taco Bell')]\n",
    "      ['city'].value_counts().nlargest(10)\n",
    "      )\n",
    "df3"
   ]
  },
  {
   "cell_type": "code",
   "execution_count": 29,
   "metadata": {},
   "outputs": [
    {
     "data": {
      "text/plain": [
       "Text(0.5, 0, 'Count')"
      ]
     },
     "execution_count": 29,
     "metadata": {},
     "output_type": "execute_result"
    },
    {
     "data": {
      "image/png": "[encoded data removed]",
      "text/plain": [
       "<Figure size 432x288 with 1 Axes>"
      ]
     },
     "metadata": {
      "needs_background": "light"
     },
     "output_type": "display_data"
    }
   ],
   "source": [
    "### Visualize\n",
    "\n",
    "vis4 = df3\n",
    "vis4.plot.barh()\n",
    "plt.title('Top Ten Cities with the Most Burger Kings Per Capita', fontsize = 14)\n",
    "plt.ylabel('Cities', fontsize = 12)\n",
    "plt.xlabel('Count', fontsize = 12)"
   ]
  },
  {
   "cell_type": "code",
   "execution_count": 37,
   "metadata": {},
   "outputs": [
    {
     "data": {
      "text/plain": [
       "Text(0.5, 0, 'State')"
      ]
     },
     "execution_count": 37,
     "metadata": {},
     "output_type": "execute_result"
    },
    {
     "data": {
      "image/png": "[encoded data removed]",
      "text/plain": [
       "<Figure size 1080x720 with 1 Axes>"
      ]
     },
     "metadata": {
      "needs_background": "light"
     },
     "output_type": "display_data"
    }
   ],
   "source": [
    "## What state has the most and what state has the least fast food restaurants per capita?\n",
    "\n",
    "df5 = df['state'].value_counts()\n",
    "\n",
    "df5.plot.bar()\n",
    "plt.rcParams['figure.figsize'] = (5,10)\n",
    "plt.xticks(fontsize = 12)\n",
    "plt.title('States with Fast Food Restaurants', fontsize = 16)\n",
    "plt.ylabel('Count', fontsize = 16)\n",
    "plt.xlabel('State', fontsize = 16)"
   ]
  },
  {
   "cell_type": "code",
   "execution_count": null,
   "metadata": {},
   "outputs": [],
   "source": [
    "## Analysis \n",
    "### - California has the most fast food restaurants per capita, and Alaska has the least.\n",
    "### - *Note - Alaska's popoulation is only marginally larger than Vermonts and has about 70 times the area than Vermont does.*"
   ]
  },
  {
   "cell_type": "code",
   "execution_count": 54,
   "metadata": {},
   "outputs": [
    {
     "data": {
      "text/html": [
       "<div>\n",
       "<style scoped>\n",
       "    .dataframe tbody tr th:only-of-type {\n",
       "        vertical-align: middle;\n",
       "    }\n",
       "\n",
       "    .dataframe tbody tr th {\n",
       "        vertical-align: top;\n",
       "    }\n",
       "\n",
       "    .dataframe thead th {\n",
       "        text-align: right;\n",
       "    }\n",
       "</style>\n",
       "<table border=\"1\" class=\"dataframe\">\n",
       "  <thead>\n",
       "    <tr style=\"text-align: right;\">\n",
       "      <th></th>\n",
       "      <th>dateAdded</th>\n",
       "      <th>city</th>\n",
       "      <th>country</th>\n",
       "      <th>latitude</th>\n",
       "      <th>longitude</th>\n",
       "      <th>name</th>\n",
       "      <th>postalCode</th>\n",
       "      <th>state</th>\n",
       "    </tr>\n",
       "  </thead>\n",
       "  <tbody>\n",
       "    <tr>\n",
       "      <th>0</th>\n",
       "      <td>2015-10-19T23:47:58Z</td>\n",
       "      <td>Thibodaux</td>\n",
       "      <td>US</td>\n",
       "      <td>29</td>\n",
       "      <td>-90</td>\n",
       "      <td>SONIC Drive In</td>\n",
       "      <td>70301</td>\n",
       "      <td>LA</td>\n",
       "    </tr>\n",
       "    <tr>\n",
       "      <th>1</th>\n",
       "      <td>2015-10-19T23:47:58Z</td>\n",
       "      <td>Thibodaux</td>\n",
       "      <td>US</td>\n",
       "      <td>29</td>\n",
       "      <td>-90</td>\n",
       "      <td>SONIC Drive In</td>\n",
       "      <td>70301</td>\n",
       "      <td>LA</td>\n",
       "    </tr>\n",
       "    <tr>\n",
       "      <th>2</th>\n",
       "      <td>2016-03-29T05:06:36Z</td>\n",
       "      <td>Pigeon Forge</td>\n",
       "      <td>US</td>\n",
       "      <td>35</td>\n",
       "      <td>-83</td>\n",
       "      <td>Taco Bell</td>\n",
       "      <td>37863</td>\n",
       "      <td>TN</td>\n",
       "    </tr>\n",
       "    <tr>\n",
       "      <th>3</th>\n",
       "      <td>2017-01-03T07:46:11Z</td>\n",
       "      <td>Pigeon Forge</td>\n",
       "      <td>US</td>\n",
       "      <td>35</td>\n",
       "      <td>-83</td>\n",
       "      <td>Arby's</td>\n",
       "      <td>37863</td>\n",
       "      <td>TN</td>\n",
       "    </tr>\n",
       "    <tr>\n",
       "      <th>4</th>\n",
       "      <td>2018-06-26T02:59:43Z</td>\n",
       "      <td>Morrow</td>\n",
       "      <td>US</td>\n",
       "      <td>33</td>\n",
       "      <td>-84</td>\n",
       "      <td>Steak 'n Shake</td>\n",
       "      <td>30260</td>\n",
       "      <td>GA</td>\n",
       "    </tr>\n",
       "  </tbody>\n",
       "</table>\n",
       "</div>"
      ],
      "text/plain": [
       "              dateAdded          city country  latitude  longitude  \\\n",
       "0  2015-10-19T23:47:58Z     Thibodaux      US        29        -90   \n",
       "1  2015-10-19T23:47:58Z     Thibodaux      US        29        -90   \n",
       "2  2016-03-29T05:06:36Z  Pigeon Forge      US        35        -83   \n",
       "3  2017-01-03T07:46:11Z  Pigeon Forge      US        35        -83   \n",
       "4  2018-06-26T02:59:43Z        Morrow      US        33        -84   \n",
       "\n",
       "             name postalCode state  \n",
       "0  SONIC Drive In      70301    LA  \n",
       "1  SONIC Drive In      70301    LA  \n",
       "2       Taco Bell      37863    TN  \n",
       "3          Arby's      37863    TN  \n",
       "4  Steak 'n Shake      30260    GA  "
      ]
     },
     "execution_count": 54,
     "metadata": {},
     "output_type": "execute_result"
    }
   ],
   "source": [
    "# Research Question 3\n",
    "## divided along the 100th meridian, do the Western or Eastern states contain more fast-food chains?\n",
    "df['latitude'] = df ['latitude'].astype(int)\n",
    "df['longitude'] = df['longitude'].astype(int)\n",
    "df.head()"
   ]
  },
  {
   "cell_type": "code",
   "execution_count": 55,
   "metadata": {},
   "outputs": [
    {
     "data": {
      "text/html": [
       "<div>\n",
       "<style scoped>\n",
       "    .dataframe tbody tr th:only-of-type {\n",
       "        vertical-align: middle;\n",
       "    }\n",
       "\n",
       "    .dataframe tbody tr th {\n",
       "        vertical-align: top;\n",
       "    }\n",
       "\n",
       "    .dataframe thead th {\n",
       "        text-align: right;\n",
       "    }\n",
       "</style>\n",
       "<table border=\"1\" class=\"dataframe\">\n",
       "  <thead>\n",
       "    <tr style=\"text-align: right;\">\n",
       "      <th></th>\n",
       "      <th>dateAdded</th>\n",
       "      <th>city</th>\n",
       "      <th>country</th>\n",
       "      <th>latitude</th>\n",
       "      <th>longitude</th>\n",
       "      <th>name</th>\n",
       "      <th>postalCode</th>\n",
       "      <th>state</th>\n",
       "    </tr>\n",
       "  </thead>\n",
       "  <tbody>\n",
       "    <tr>\n",
       "      <th>0</th>\n",
       "      <td>2015-10-19T23:47:58Z</td>\n",
       "      <td>Thibodaux</td>\n",
       "      <td>US</td>\n",
       "      <td>29</td>\n",
       "      <td>-90</td>\n",
       "      <td>SONIC Drive In</td>\n",
       "      <td>70301</td>\n",
       "      <td>LA</td>\n",
       "    </tr>\n",
       "    <tr>\n",
       "      <th>1</th>\n",
       "      <td>2015-10-19T23:47:58Z</td>\n",
       "      <td>Thibodaux</td>\n",
       "      <td>US</td>\n",
       "      <td>29</td>\n",
       "      <td>-90</td>\n",
       "      <td>SONIC Drive In</td>\n",
       "      <td>70301</td>\n",
       "      <td>LA</td>\n",
       "    </tr>\n",
       "    <tr>\n",
       "      <th>2</th>\n",
       "      <td>2016-03-29T05:06:36Z</td>\n",
       "      <td>Pigeon Forge</td>\n",
       "      <td>US</td>\n",
       "      <td>35</td>\n",
       "      <td>-83</td>\n",
       "      <td>Taco Bell</td>\n",
       "      <td>37863</td>\n",
       "      <td>TN</td>\n",
       "    </tr>\n",
       "    <tr>\n",
       "      <th>3</th>\n",
       "      <td>2017-01-03T07:46:11Z</td>\n",
       "      <td>Pigeon Forge</td>\n",
       "      <td>US</td>\n",
       "      <td>35</td>\n",
       "      <td>-83</td>\n",
       "      <td>Arby's</td>\n",
       "      <td>37863</td>\n",
       "      <td>TN</td>\n",
       "    </tr>\n",
       "    <tr>\n",
       "      <th>4</th>\n",
       "      <td>2018-06-26T02:59:43Z</td>\n",
       "      <td>Morrow</td>\n",
       "      <td>US</td>\n",
       "      <td>33</td>\n",
       "      <td>-84</td>\n",
       "      <td>Steak 'n Shake</td>\n",
       "      <td>30260</td>\n",
       "      <td>GA</td>\n",
       "    </tr>\n",
       "    <tr>\n",
       "      <th>...</th>\n",
       "      <td>...</td>\n",
       "      <td>...</td>\n",
       "      <td>...</td>\n",
       "      <td>...</td>\n",
       "      <td>...</td>\n",
       "      <td>...</td>\n",
       "      <td>...</td>\n",
       "      <td>...</td>\n",
       "    </tr>\n",
       "    <tr>\n",
       "      <th>9995</th>\n",
       "      <td>2017-07-24T21:28:46Z</td>\n",
       "      <td>Winston-Salem</td>\n",
       "      <td>US</td>\n",
       "      <td>36</td>\n",
       "      <td>-80</td>\n",
       "      <td>Pizza Hut</td>\n",
       "      <td>27106</td>\n",
       "      <td>NC</td>\n",
       "    </tr>\n",
       "    <tr>\n",
       "      <th>9996</th>\n",
       "      <td>2017-07-24T21:28:46Z</td>\n",
       "      <td>Winston-Salem</td>\n",
       "      <td>US</td>\n",
       "      <td>36</td>\n",
       "      <td>-80</td>\n",
       "      <td>Pizza Hut</td>\n",
       "      <td>27107</td>\n",
       "      <td>NC</td>\n",
       "    </tr>\n",
       "    <tr>\n",
       "      <th>9997</th>\n",
       "      <td>2015-10-24T00:17:32Z</td>\n",
       "      <td>Kernersville</td>\n",
       "      <td>US</td>\n",
       "      <td>36</td>\n",
       "      <td>-80</td>\n",
       "      <td>Pizza Hut</td>\n",
       "      <td>27284</td>\n",
       "      <td>NC</td>\n",
       "    </tr>\n",
       "    <tr>\n",
       "      <th>9998</th>\n",
       "      <td>2016-04-05T02:59:45Z</td>\n",
       "      <td>Wilson</td>\n",
       "      <td>US</td>\n",
       "      <td>35</td>\n",
       "      <td>-77</td>\n",
       "      <td>Pizza Hut</td>\n",
       "      <td>27893</td>\n",
       "      <td>NC</td>\n",
       "    </tr>\n",
       "    <tr>\n",
       "      <th>9999</th>\n",
       "      <td>2016-11-08T02:26:32Z</td>\n",
       "      <td>Elizabethtown</td>\n",
       "      <td>US</td>\n",
       "      <td>34</td>\n",
       "      <td>-78</td>\n",
       "      <td>Pizza Hut</td>\n",
       "      <td>28337</td>\n",
       "      <td>NC</td>\n",
       "    </tr>\n",
       "  </tbody>\n",
       "</table>\n",
       "<p>9680 rows × 8 columns</p>\n",
       "</div>"
      ],
      "text/plain": [
       "                 dateAdded           city country  latitude  longitude  \\\n",
       "0     2015-10-19T23:47:58Z      Thibodaux      US        29        -90   \n",
       "1     2015-10-19T23:47:58Z      Thibodaux      US        29        -90   \n",
       "2     2016-03-29T05:06:36Z   Pigeon Forge      US        35        -83   \n",
       "3     2017-01-03T07:46:11Z   Pigeon Forge      US        35        -83   \n",
       "4     2018-06-26T02:59:43Z         Morrow      US        33        -84   \n",
       "...                    ...            ...     ...       ...        ...   \n",
       "9995  2017-07-24T21:28:46Z  Winston-Salem      US        36        -80   \n",
       "9996  2017-07-24T21:28:46Z  Winston-Salem      US        36        -80   \n",
       "9997  2015-10-24T00:17:32Z   Kernersville      US        36        -80   \n",
       "9998  2016-04-05T02:59:45Z         Wilson      US        35        -77   \n",
       "9999  2016-11-08T02:26:32Z  Elizabethtown      US        34        -78   \n",
       "\n",
       "                name postalCode state  \n",
       "0     SONIC Drive In      70301    LA  \n",
       "1     SONIC Drive In      70301    LA  \n",
       "2          Taco Bell      37863    TN  \n",
       "3             Arby's      37863    TN  \n",
       "4     Steak 'n Shake      30260    GA  \n",
       "...              ...        ...   ...  \n",
       "9995       Pizza Hut      27106    NC  \n",
       "9996       Pizza Hut      27107    NC  \n",
       "9997       Pizza Hut      27284    NC  \n",
       "9998       Pizza Hut      27893    NC  \n",
       "9999       Pizza Hut      28337    NC  \n",
       "\n",
       "[9680 rows x 8 columns]"
      ]
     },
     "execution_count": 55,
     "metadata": {},
     "output_type": "execute_result"
    }
   ],
   "source": [
    "q_low = df['latitude'].quantile(0.01)\n",
    "q_hi  = df['latitude'].quantile(0.99)\n",
    "\n",
    "df_filtered = df[(df['latitude'] < q_hi) & (df['latitude'] > q_low)]\n",
    "df_filtered\n"
   ]
  },
  {
   "cell_type": "code",
   "execution_count": 56,
   "metadata": {},
   "outputs": [
    {
     "data": {
      "image/png": "[encoded data removed]",
      "text/plain": [
       "<Figure size 1080x720 with 1 Axes>"
      ]
     },
     "metadata": {
      "needs_background": "light"
     },
     "output_type": "display_data"
    }
   ],
   "source": [
    "sns.violinplot(data = df_filtered, x = 'longitude', y = 'latitude', orient = 'h')\n",
    "plt.rcParams['figure.figsize'] = (15,10)"
   ]
  },
  {
   "cell_type": "code",
   "execution_count": null,
   "metadata": {},
   "outputs": [],
   "source": [
    "## from the violin plot above it is evident that there is a higher concentration of fast-food chains East of the 100th meridian, to roughly the 70th meridian. \n",
    "### the greatest concentration of fast-food chains in these Eastern states is North of the 35th parallel."
   ]
  }
 ],
 "metadata": {
  "kernelspec": {
   "display_name": "Python 3",
   "language": "python",
   "name": "python3"
  },
  "language_info": {
   "codemirror_mode": {
    "name": "ipython",
    "version": 3
   },
   "file_extension": ".py",
   "mimetype": "text/x-python",
   "name": "python",
   "nbconvert_exporter": "python",
   "pygments_lexer": "ipython3",
   "version": "3.8.3"
  }
 },
 "nbformat": 4,
 "nbformat_minor": 4
}
